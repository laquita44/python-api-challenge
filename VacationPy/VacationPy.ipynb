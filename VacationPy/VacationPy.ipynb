{
 "cells": [
  {
   "cell_type": "markdown",
   "metadata": {},
   "source": [
    "# VacationPy\n",
    "----Observation:\n",
    "I noticed when the temperatures across the region are high it also have high humidity with the cloudiness being high. \n",
    "I'm assuming there is little to no sunshine with so much clouds no dry heat. being surrounded by a body of water the heat and humidity is very present. \n",
    "From the params I tried to find hotels with the criteria of less than 10 mph wind speed, max temp of 80 degrees but no lower than 70 degrees and zero cloudiness only produced less than 2% of the cities met this criteria. It's not to many choices to choose from when trying to find the perfect weather and hotel to stay at from the selected cities. The search would probably have to be widen to get more cities that may be qualified for staying somewhere with perfect weather. \n",
    "\n",
    "\n",
    "#### Note\n",
    "* Keep an eye on your API usage. Use https://developers.google.com/maps/reporting/gmp-reporting as reference for how to monitor your usage and billing.\n",
    "\n",
    "* Instructions have been included for each segment. You do not have to follow them exactly, but they are included to help you think through the steps."
   ]
  },
  {
   "cell_type": "code",
   "execution_count": 15,
   "metadata": {},
   "outputs": [],
   "source": [
    "# Dependencies and Setup\n",
    "import matplotlib.pyplot as plt\n",
    "import pandas as pd\n",
    "import numpy as np\n",
    "import requests\n",
    "import gmaps\n",
    "import os\n",
    "import json\n",
    "\n",
    "# Import API key\n",
    "from api_keys import g_key"
   ]
  },
  {
   "cell_type": "markdown",
   "metadata": {},
   "source": [
    "### Store Part I results into DataFrame\n",
    "* Load the csv exported in Part I to a DataFrame"
   ]
  },
  {
   "cell_type": "code",
   "execution_count": 28,
   "metadata": {},
   "outputs": [
    {
     "data": {
      "text/html": [
       "<div>\n",
       "<style scoped>\n",
       "    .dataframe tbody tr th:only-of-type {\n",
       "        vertical-align: middle;\n",
       "    }\n",
       "\n",
       "    .dataframe tbody tr th {\n",
       "        vertical-align: top;\n",
       "    }\n",
       "\n",
       "    .dataframe thead th {\n",
       "        text-align: right;\n",
       "    }\n",
       "</style>\n",
       "<table border=\"1\" class=\"dataframe\">\n",
       "  <thead>\n",
       "    <tr style=\"text-align: right;\">\n",
       "      <th></th>\n",
       "      <th>City</th>\n",
       "      <th>Lat</th>\n",
       "      <th>Lng</th>\n",
       "      <th>Max Temp</th>\n",
       "      <th>Humidity</th>\n",
       "      <th>Cloudiness</th>\n",
       "      <th>Wind Speed</th>\n",
       "      <th>Country</th>\n",
       "      <th>Date</th>\n",
       "    </tr>\n",
       "  </thead>\n",
       "  <tbody>\n",
       "    <tr>\n",
       "      <th>0</th>\n",
       "      <td>Bolshaya Martynovka</td>\n",
       "      <td>47.2710</td>\n",
       "      <td>41.6679</td>\n",
       "      <td>61.22</td>\n",
       "      <td>99</td>\n",
       "      <td>100</td>\n",
       "      <td>4.18</td>\n",
       "      <td>RU</td>\n",
       "      <td>1637688917</td>\n",
       "    </tr>\n",
       "    <tr>\n",
       "      <th>1</th>\n",
       "      <td>Dikson</td>\n",
       "      <td>73.5069</td>\n",
       "      <td>80.5464</td>\n",
       "      <td>24.35</td>\n",
       "      <td>97</td>\n",
       "      <td>100</td>\n",
       "      <td>6.70</td>\n",
       "      <td>RU</td>\n",
       "      <td>1637688917</td>\n",
       "    </tr>\n",
       "    <tr>\n",
       "      <th>2</th>\n",
       "      <td>Kirakira</td>\n",
       "      <td>-10.4544</td>\n",
       "      <td>161.9205</td>\n",
       "      <td>105.25</td>\n",
       "      <td>82</td>\n",
       "      <td>99</td>\n",
       "      <td>3.86</td>\n",
       "      <td>SB</td>\n",
       "      <td>1637688918</td>\n",
       "    </tr>\n",
       "    <tr>\n",
       "      <th>3</th>\n",
       "      <td>Tiksi</td>\n",
       "      <td>71.6872</td>\n",
       "      <td>128.8694</td>\n",
       "      <td>4.63</td>\n",
       "      <td>98</td>\n",
       "      <td>83</td>\n",
       "      <td>3.01</td>\n",
       "      <td>RU</td>\n",
       "      <td>1637688647</td>\n",
       "    </tr>\n",
       "    <tr>\n",
       "      <th>4</th>\n",
       "      <td>Sri Aman</td>\n",
       "      <td>1.2376</td>\n",
       "      <td>111.4621</td>\n",
       "      <td>102.69</td>\n",
       "      <td>94</td>\n",
       "      <td>100</td>\n",
       "      <td>0.00</td>\n",
       "      <td>MY</td>\n",
       "      <td>1637688918</td>\n",
       "    </tr>\n",
       "  </tbody>\n",
       "</table>\n",
       "</div>"
      ],
      "text/plain": [
       "                  City      Lat       Lng  Max Temp  Humidity  Cloudiness  \\\n",
       "0  Bolshaya Martynovka  47.2710   41.6679     61.22        99         100   \n",
       "1               Dikson  73.5069   80.5464     24.35        97         100   \n",
       "2             Kirakira -10.4544  161.9205    105.25        82          99   \n",
       "3                Tiksi  71.6872  128.8694      4.63        98          83   \n",
       "4             Sri Aman   1.2376  111.4621    102.69        94         100   \n",
       "\n",
       "   Wind Speed Country        Date  \n",
       "0        4.18      RU  1637688917  \n",
       "1        6.70      RU  1637688917  \n",
       "2        3.86      SB  1637688918  \n",
       "3        3.01      RU  1637688647  \n",
       "4        0.00      MY  1637688918  "
      ]
     },
     "execution_count": 28,
     "metadata": {},
     "output_type": "execute_result"
    }
   ],
   "source": [
    "# export csv file from WeatherPY to create into a DataFrame\n",
    "city_data_csv = \"output_data.csv\"\n",
    "city_info = pd.read_csv(city_data_csv)\n",
    "\n",
    "# Have to convert the Max Temp from Celcius to Fahrenheit \n",
    "cols = ['Max Temp']\n",
    "city_info[cols] = ((city_info[cols] + 32) * 9/5).round(2)\n",
    "city_info.head()"
   ]
  },
  {
   "cell_type": "markdown",
   "metadata": {},
   "source": [
    "### Humidity Heatmap\n",
    "* Configure gmaps.\n",
    "* Use the Lat and Lng as locations and Humidity as the weight.\n",
    "* Add Heatmap layer to map."
   ]
  },
  {
   "cell_type": "code",
   "execution_count": 17,
   "metadata": {},
   "outputs": [],
   "source": [
    "# configure gmaps\n",
    "gmaps.configure(api_key=g_key)\n",
    "\n",
    "# Store latitude and longitude in locations\n",
    "locations = city_info[[\"Lat\", \"Lng\"]]\n",
    "\n",
    "\n",
    "# convert humidity as float to use as weight\n",
    "humidity = city_info[\"Humidity\"].astype(float)\n",
    "\n"
   ]
  },
  {
   "cell_type": "code",
   "execution_count": 18,
   "metadata": {},
   "outputs": [
    {
     "data": {
      "application/vnd.jupyter.widget-view+json": {
       "model_id": "4b575109ffa942828be0247a221ad267",
       "version_major": 2,
       "version_minor": 0
      },
      "text/plain": [
       "Figure(layout=FigureLayout(height='420px'))"
      ]
     },
     "metadata": {},
     "output_type": "display_data"
    }
   ],
   "source": [
    "# Plot Heatmap\n",
    "\n",
    "fig = gmaps.figure(center=(46.0, -5.0), zoom_level=8)\n",
    "# Create heat layer\n",
    "heat_layer = gmaps.heatmap_layer(locations, weights=humidity, \n",
    "                                 dissipating=False, max_intensity=10,\n",
    "                                 point_radius=1)\n",
    "\n",
    "\n",
    "\n",
    "# Add layer\n",
    "fig.add_layer(heat_layer)\n",
    "\n",
    "\n",
    "# Display figure\n",
    "fig"
   ]
  },
  {
   "cell_type": "code",
   "execution_count": 19,
   "metadata": {
    "scrolled": true
   },
   "outputs": [
    {
     "data": {
      "application/vnd.jupyter.widget-view+json": {
       "model_id": "ff861b6f77ce4ad6a1f52f9b8818cf78",
       "version_major": 2,
       "version_minor": 0
      },
      "text/plain": [
       "Figure(layout=FigureLayout(height='420px'))"
      ]
     },
     "metadata": {},
     "output_type": "display_data"
    }
   ],
   "source": [
    "# Plot as a Terrain map\n",
    "fig = gmaps.figure(map_type=\"TERRAIN\")\n",
    "\n",
    "# Create heat layer\n",
    "heat_layer = gmaps.heatmap_layer(locations, weights=humidity, \n",
    "                                 dissipating=False, max_intensity=10,\n",
    "                                 point_radius=1)\n",
    "\n",
    "fig.add_layer(heat_layer)\n",
    "fig"
   ]
  },
  {
   "cell_type": "markdown",
   "metadata": {},
   "source": [
    "### Create new DataFrame fitting weather criteria\n",
    "* Narrow down the cities to fit weather conditions.\n",
    "* Drop any rows will null values."
   ]
  },
  {
   "cell_type": "code",
   "execution_count": 32,
   "metadata": {},
   "outputs": [
    {
     "data": {
      "text/html": [
       "<div>\n",
       "<style scoped>\n",
       "    .dataframe tbody tr th:only-of-type {\n",
       "        vertical-align: middle;\n",
       "    }\n",
       "\n",
       "    .dataframe tbody tr th {\n",
       "        vertical-align: top;\n",
       "    }\n",
       "\n",
       "    .dataframe thead th {\n",
       "        text-align: right;\n",
       "    }\n",
       "</style>\n",
       "<table border=\"1\" class=\"dataframe\">\n",
       "  <thead>\n",
       "    <tr style=\"text-align: right;\">\n",
       "      <th></th>\n",
       "      <th>City</th>\n",
       "      <th>Lat</th>\n",
       "      <th>Lng</th>\n",
       "      <th>Max Temp</th>\n",
       "      <th>Humidity</th>\n",
       "      <th>Cloudiness</th>\n",
       "      <th>Wind Speed</th>\n",
       "      <th>Country</th>\n",
       "      <th>Date</th>\n",
       "    </tr>\n",
       "  </thead>\n",
       "  <tbody>\n",
       "    <tr>\n",
       "      <th>66</th>\n",
       "      <td>Busselton</td>\n",
       "      <td>-33.6500</td>\n",
       "      <td>115.3333</td>\n",
       "      <td>79.69</td>\n",
       "      <td>82</td>\n",
       "      <td>0</td>\n",
       "      <td>4.06</td>\n",
       "      <td>AU</td>\n",
       "      <td>1637688942</td>\n",
       "    </tr>\n",
       "    <tr>\n",
       "      <th>468</th>\n",
       "      <td>Ardabil</td>\n",
       "      <td>38.2498</td>\n",
       "      <td>48.2933</td>\n",
       "      <td>71.24</td>\n",
       "      <td>60</td>\n",
       "      <td>0</td>\n",
       "      <td>4.44</td>\n",
       "      <td>IR</td>\n",
       "      <td>1637689118</td>\n",
       "    </tr>\n",
       "  </tbody>\n",
       "</table>\n",
       "</div>"
      ],
      "text/plain": [
       "          City      Lat       Lng  Max Temp  Humidity  Cloudiness  Wind Speed  \\\n",
       "66   Busselton -33.6500  115.3333     79.69        82           0        4.06   \n",
       "468    Ardabil  38.2498   48.2933     71.24        60           0        4.44   \n",
       "\n",
       "    Country        Date  \n",
       "66       AU  1637688942  \n",
       "468      IR  1637689118  "
      ]
     },
     "execution_count": 32,
     "metadata": {},
     "output_type": "execute_result"
    }
   ],
   "source": [
    "# weather with 0 cloudiness\n",
    "no_clouds = city_info[city_info[\"Cloudiness\"] == 0]\n",
    "\n",
    "# weather with max temp above 70 but lower than 80 degrees\n",
    "temp_data = no_clouds[(no_clouds[\"Max Temp\"] > 70) & (no_clouds[\"Max Temp\"] < 80)]\n",
    "\n",
    "# weather with wind speed less 10 mph\n",
    "less_wind = temp_data[temp_data[\"Wind Speed\"] < 10]\n",
    "\n",
    "# Drop any null values in all rows\n",
    "less_wind = less_wind.dropna()\n",
    "less_wind.head()\n",
    "\n",
    "\n"
   ]
  },
  {
   "cell_type": "markdown",
   "metadata": {},
   "source": [
    "### Hotel Map\n",
    "* Store into variable named `hotel_df`.\n",
    "* Add a \"Hotel Name\" column to the DataFrame.\n",
    "* Set parameters to search for hotels with 5000 meters.\n",
    "* Hit the Google Places API for each city's coordinates.\n",
    "* Store the first Hotel result into the DataFrame.\n",
    "* Plot markers on top of the heatmap."
   ]
  },
  {
   "cell_type": "code",
   "execution_count": 38,
   "metadata": {},
   "outputs": [
    {
     "data": {
      "text/html": [
       "<div>\n",
       "<style scoped>\n",
       "    .dataframe tbody tr th:only-of-type {\n",
       "        vertical-align: middle;\n",
       "    }\n",
       "\n",
       "    .dataframe tbody tr th {\n",
       "        vertical-align: top;\n",
       "    }\n",
       "\n",
       "    .dataframe thead th {\n",
       "        text-align: right;\n",
       "    }\n",
       "</style>\n",
       "<table border=\"1\" class=\"dataframe\">\n",
       "  <thead>\n",
       "    <tr style=\"text-align: right;\">\n",
       "      <th></th>\n",
       "      <th>City</th>\n",
       "      <th>Lat</th>\n",
       "      <th>Lng</th>\n",
       "      <th>Max Temp</th>\n",
       "      <th>Humidity</th>\n",
       "      <th>Cloudiness</th>\n",
       "      <th>Wind Speed</th>\n",
       "      <th>Country</th>\n",
       "      <th>Date</th>\n",
       "      <th>Hotel Name</th>\n",
       "    </tr>\n",
       "  </thead>\n",
       "  <tbody>\n",
       "    <tr>\n",
       "      <th>66</th>\n",
       "      <td>Busselton</td>\n",
       "      <td>-33.6500</td>\n",
       "      <td>115.3333</td>\n",
       "      <td>79.69</td>\n",
       "      <td>82</td>\n",
       "      <td>0</td>\n",
       "      <td>4.06</td>\n",
       "      <td>AU</td>\n",
       "      <td>1637688942</td>\n",
       "      <td>Observatory Guest House</td>\n",
       "    </tr>\n",
       "    <tr>\n",
       "      <th>468</th>\n",
       "      <td>Ardabil</td>\n",
       "      <td>38.2498</td>\n",
       "      <td>48.2933</td>\n",
       "      <td>71.24</td>\n",
       "      <td>60</td>\n",
       "      <td>0</td>\n",
       "      <td>4.44</td>\n",
       "      <td>IR</td>\n",
       "      <td>1637689118</td>\n",
       "      <td>Hostel ideal</td>\n",
       "    </tr>\n",
       "  </tbody>\n",
       "</table>\n",
       "</div>"
      ],
      "text/plain": [
       "          City      Lat       Lng  Max Temp  Humidity  Cloudiness  Wind Speed  \\\n",
       "66   Busselton -33.6500  115.3333     79.69        82           0        4.06   \n",
       "468    Ardabil  38.2498   48.2933     71.24        60           0        4.44   \n",
       "\n",
       "    Country        Date               Hotel Name  \n",
       "66       AU  1637688942  Observatory Guest House  \n",
       "468      IR  1637689118             Hostel ideal  "
      ]
     },
     "execution_count": 38,
     "metadata": {},
     "output_type": "execute_result"
    }
   ],
   "source": [
    "# Store into variable named hotel_df:\n",
    "hotel_df = less_wind\n",
    "\n",
    "# Add a \"Hotel Name\" column to the DataFrame: (setting new columns to hold values)\n",
    "hotel_df[\"Hotel Name\"] = \"\"\n",
    "\n",
    "\n",
    "# Set parameters to search for hotels with 5000 meters:\n",
    "\n",
    "# Set params:\n",
    "params = {\n",
    "    \"radius\": 5000,\n",
    "    \"types\": \"lodging\",\n",
    "    \"key\": g_key\n",
    "}\n",
    "\n",
    "# Loop through to identify hotels:\n",
    "for index, row in hotel_df.iterrows():\n",
    "    \n",
    "      \n",
    "    lat = row[\"Lat\"]\n",
    "    lng = row[\"Lng\"]\n",
    "    \n",
    "    params[\"location\"] = f\"{lat},{lng}\"\n",
    "    \n",
    "    base_url = \"https://maps.googleapis.com/maps/api/place/nearbysearch/json\"\n",
    "    \n",
    "    hotel_data = requests.get(base_url, params=params).json()\n",
    "    \n",
    "    try:\n",
    "        \n",
    "        hotel_df.loc[index, \"Hotel Name\"] = hotel_data[\"results\"][0][\"name\"]\n",
    "        \n",
    "    except (KeyError, IndexError):\n",
    "        print(\"Hotel not Found, skip\")\n",
    "\n",
    "\n",
    "\n",
    "\n",
    "# Checking hotels:\n",
    "len(hotel_df[[\"Lat\", \"Lng\"]])\n",
    "hotel_df\n"
   ]
  },
  {
   "cell_type": "code",
   "execution_count": 23,
   "metadata": {},
   "outputs": [
    {
     "data": {
      "text/html": [
       "<div>\n",
       "<style scoped>\n",
       "    .dataframe tbody tr th:only-of-type {\n",
       "        vertical-align: middle;\n",
       "    }\n",
       "\n",
       "    .dataframe tbody tr th {\n",
       "        vertical-align: top;\n",
       "    }\n",
       "\n",
       "    .dataframe thead th {\n",
       "        text-align: right;\n",
       "    }\n",
       "</style>\n",
       "<table border=\"1\" class=\"dataframe\">\n",
       "  <thead>\n",
       "    <tr style=\"text-align: right;\">\n",
       "      <th></th>\n",
       "      <th>Lat</th>\n",
       "      <th>Lng</th>\n",
       "    </tr>\n",
       "  </thead>\n",
       "  <tbody>\n",
       "    <tr>\n",
       "      <th>66</th>\n",
       "      <td>-33.6500</td>\n",
       "      <td>115.3333</td>\n",
       "    </tr>\n",
       "    <tr>\n",
       "      <th>468</th>\n",
       "      <td>38.2498</td>\n",
       "      <td>48.2933</td>\n",
       "    </tr>\n",
       "  </tbody>\n",
       "</table>\n",
       "</div>"
      ],
      "text/plain": [
       "         Lat       Lng\n",
       "66  -33.6500  115.3333\n",
       "468  38.2498   48.2933"
      ]
     },
     "execution_count": 23,
     "metadata": {},
     "output_type": "execute_result"
    }
   ],
   "source": [
    "# NOTE: Do not change any of the code in this cell\n",
    "\n",
    "# Using the template add the hotel marks to the heatmap\n",
    "info_box_template = \"\"\"\n",
    "<dl>\n",
    "<dt>Name</dt><dd>{Hotel Name}</dd>\n",
    "<dt>City</dt><dd>{City}</dd>\n",
    "<dt>Country</dt><dd>{Country}</dd>\n",
    "</dl>\n",
    "\"\"\"\n",
    "# Store the DataFrame Row\n",
    "# NOTE: be sure to update with your DataFrame name\n",
    "hotel_info = [info_box_template.format(**row) for index, row in hotel_df.iterrows()]\n",
    "locations = hotel_df[[\"Lat\", \"Lng\"]]\n",
    "locations"
   ]
  },
  {
   "cell_type": "code",
   "execution_count": 10,
   "metadata": {},
   "outputs": [
    {
     "data": {
      "application/vnd.jupyter.widget-view+json": {
       "model_id": "b7dc6f5385bf4f4d8e5df7b4100ce2c5",
       "version_major": 2,
       "version_minor": 0
      },
      "text/plain": [
       "Figure(layout=FigureLayout(height='420px'))"
      ]
     },
     "metadata": {},
     "output_type": "display_data"
    }
   ],
   "source": [
    "# Add marker layer ontop of heat map\n",
    "marker_layer = gmaps.marker_layer(locations, info_box_content= hotel_info)\n",
    "\n",
    "fig.add_layer(marker_layer)\n",
    "\n",
    "# Display figure\n",
    "fig"
   ]
  },
  {
   "cell_type": "code",
   "execution_count": null,
   "metadata": {},
   "outputs": [],
   "source": []
  }
 ],
 "metadata": {
  "kernelspec": {
   "display_name": "Python [conda env:pythondata] *",
   "language": "python",
   "name": "conda-env-pythondata-py"
  },
  "language_info": {
   "codemirror_mode": {
    "name": "ipython",
    "version": 3
   },
   "file_extension": ".py",
   "mimetype": "text/x-python",
   "name": "python",
   "nbconvert_exporter": "python",
   "pygments_lexer": "ipython3",
   "version": "3.6.10"
  },
  "latex_envs": {
   "LaTeX_envs_menu_present": true,
   "autoclose": false,
   "autocomplete": true,
   "bibliofile": "biblio.bib",
   "cite_by": "apalike",
   "current_citInitial": 1,
   "eqLabelWithNumbers": true,
   "eqNumInitial": 1,
   "hotkeys": {
    "equation": "Ctrl-E",
    "itemize": "Ctrl-I"
   },
   "labels_anchors": false,
   "latex_user_defs": false,
   "report_style_numbering": false,
   "user_envs_cfg": false
  }
 },
 "nbformat": 4,
 "nbformat_minor": 4
}
